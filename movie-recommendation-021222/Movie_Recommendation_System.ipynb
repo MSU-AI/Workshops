{
  "cells": [
    {
      "cell_type": "markdown",
      "metadata": {
        "id": "DdqDb9qcgVUz"
      },
      "source": [
        "This workshop is based on [the original work](https://www.kaggle.com/rounakbanik/movie-recommender-systems/notebook) done by Rounak Banik. Thank you! 🙏"
      ]
    },
    {
      "cell_type": "markdown",
      "metadata": {
        "id": "b61vZf97pefl"
      },
      "source": [
        "# Step 1: Download dataset\n",
        "The following command will download our dataset, a file called `movies.csv`, from Google Drive. Run it and then check the files tab on the left to make sure it's there."
      ]
    },
    {
      "cell_type": "code",
      "execution_count": 18,
      "metadata": {
        "id": "haXXBjhhpGBL"
      },
      "outputs": [
        {
          "name": "stdout",
          "output_type": "stream",
          "text": [
            "Downloading...\n",
            "From: https://drive.google.com/uc?id=1vbCnO9blSUE8IR5BHNMXY_OfOY_Cos88\n",
            "To: /home/owen/Documents/projects/Workshops/movie-recommendation-021222/movies.csv\n",
            "100%|██████████████████████████████████████| 18.1M/18.1M [00:00<00:00, 54.0MB/s]\n"
          ]
        }
      ],
      "source": [
        "!gdown https://drive.google.com/uc?id=1vbCnO9blSUE8IR5BHNMXY_OfOY_Cos88"
      ]
    },
    {
      "cell_type": "markdown",
      "metadata": {
        "id": "lyDzjLZuzwt2"
      },
      "source": [
        "# Step 2: Load movie data in Python\n",
        "The following code is *almost* correct, but it contains a typo. It's *supposed* to load the file `movies.csv` into a pandas dataframe called `movies`. Can you fix it? (Once you have it working, you should be able to see the first 5 rows of data displayed.)"
      ]
    },
    {
      "cell_type": "code",
      "execution_count": 19,
      "metadata": {
        "id": "4jQWli4f0qXr"
      },
      "outputs": [
        {
          "data": {
            "text/html": [
              "<div>\n",
              "<style scoped>\n",
              "    .dataframe tbody tr th:only-of-type {\n",
              "        vertical-align: middle;\n",
              "    }\n",
              "\n",
              "    .dataframe tbody tr th {\n",
              "        vertical-align: top;\n",
              "    }\n",
              "\n",
              "    .dataframe thead th {\n",
              "        text-align: right;\n",
              "    }\n",
              "</style>\n",
              "<table border=\"1\" class=\"dataframe\">\n",
              "  <thead>\n",
              "    <tr style=\"text-align: right;\">\n",
              "      <th></th>\n",
              "      <th>title</th>\n",
              "      <th>tagline</th>\n",
              "      <th>overview</th>\n",
              "      <th>popularity</th>\n",
              "      <th>vote_count</th>\n",
              "      <th>vote_average</th>\n",
              "      <th>release_date</th>\n",
              "      <th>runtime</th>\n",
              "      <th>budget</th>\n",
              "      <th>language</th>\n",
              "    </tr>\n",
              "  </thead>\n",
              "  <tbody>\n",
              "    <tr>\n",
              "      <th>0</th>\n",
              "      <td>Toy Story</td>\n",
              "      <td>NaN</td>\n",
              "      <td>Led by Woody, Andy's toys live happily in his ...</td>\n",
              "      <td>21.946943</td>\n",
              "      <td>5415</td>\n",
              "      <td>7.7</td>\n",
              "      <td>1995-10-30</td>\n",
              "      <td>81.0</td>\n",
              "      <td>30000000</td>\n",
              "      <td>en</td>\n",
              "    </tr>\n",
              "    <tr>\n",
              "      <th>1</th>\n",
              "      <td>Jumanji</td>\n",
              "      <td>Roll the dice and unleash the excitement!</td>\n",
              "      <td>When siblings Judy and Peter discover an encha...</td>\n",
              "      <td>17.015539</td>\n",
              "      <td>2413</td>\n",
              "      <td>6.9</td>\n",
              "      <td>1995-12-15</td>\n",
              "      <td>104.0</td>\n",
              "      <td>65000000</td>\n",
              "      <td>en</td>\n",
              "    </tr>\n",
              "    <tr>\n",
              "      <th>2</th>\n",
              "      <td>Grumpier Old Men</td>\n",
              "      <td>Still Yelling. Still Fighting. Still Ready for...</td>\n",
              "      <td>A family wedding reignites the ancient feud be...</td>\n",
              "      <td>11.712900</td>\n",
              "      <td>92</td>\n",
              "      <td>6.5</td>\n",
              "      <td>1995-12-22</td>\n",
              "      <td>101.0</td>\n",
              "      <td>0</td>\n",
              "      <td>en</td>\n",
              "    </tr>\n",
              "    <tr>\n",
              "      <th>3</th>\n",
              "      <td>Waiting to Exhale</td>\n",
              "      <td>Friends are the people who let you be yourself...</td>\n",
              "      <td>Cheated on, mistreated and stepped on, the wom...</td>\n",
              "      <td>3.859495</td>\n",
              "      <td>34</td>\n",
              "      <td>6.1</td>\n",
              "      <td>1995-12-22</td>\n",
              "      <td>127.0</td>\n",
              "      <td>16000000</td>\n",
              "      <td>en</td>\n",
              "    </tr>\n",
              "    <tr>\n",
              "      <th>4</th>\n",
              "      <td>Father of the Bride Part II</td>\n",
              "      <td>Just When His World Is Back To Normal... He's ...</td>\n",
              "      <td>Just when George Banks has recovered from his ...</td>\n",
              "      <td>8.387519</td>\n",
              "      <td>173</td>\n",
              "      <td>5.7</td>\n",
              "      <td>1995-02-10</td>\n",
              "      <td>106.0</td>\n",
              "      <td>0</td>\n",
              "      <td>en</td>\n",
              "    </tr>\n",
              "  </tbody>\n",
              "</table>\n",
              "</div>"
            ],
            "text/plain": [
              "                         title  \\\n",
              "0                    Toy Story   \n",
              "1                      Jumanji   \n",
              "2             Grumpier Old Men   \n",
              "3            Waiting to Exhale   \n",
              "4  Father of the Bride Part II   \n",
              "\n",
              "                                             tagline  \\\n",
              "0                                                NaN   \n",
              "1          Roll the dice and unleash the excitement!   \n",
              "2  Still Yelling. Still Fighting. Still Ready for...   \n",
              "3  Friends are the people who let you be yourself...   \n",
              "4  Just When His World Is Back To Normal... He's ...   \n",
              "\n",
              "                                            overview  popularity  vote_count  \\\n",
              "0  Led by Woody, Andy's toys live happily in his ...   21.946943        5415   \n",
              "1  When siblings Judy and Peter discover an encha...   17.015539        2413   \n",
              "2  A family wedding reignites the ancient feud be...   11.712900          92   \n",
              "3  Cheated on, mistreated and stepped on, the wom...    3.859495          34   \n",
              "4  Just when George Banks has recovered from his ...    8.387519         173   \n",
              "\n",
              "   vote_average release_date  runtime    budget language  \n",
              "0           7.7   1995-10-30     81.0  30000000       en  \n",
              "1           6.9   1995-12-15    104.0  65000000       en  \n",
              "2           6.5   1995-12-22    101.0         0       en  \n",
              "3           6.1   1995-12-22    127.0  16000000       en  \n",
              "4           5.7   1995-02-10    106.0         0       en  "
            ]
          },
          "execution_count": 19,
          "metadata": {},
          "output_type": "execute_result"
        }
      ],
      "source": [
        "import pandas as pd\n",
        "\n",
        "# Load the \"movies\" dataframe from movies.csv\n",
        "movies = pd.read_csv(\"movies.csv\")\n",
        "\n",
        "# Display the first 5 rows\n",
        "movies.head(5)"
      ]
    },
    {
      "cell_type": "markdown",
      "metadata": {
        "id": "Q7eepXeY1PHO"
      },
      "source": [
        "That's a lot of data! Having all these columns is awesome, but it's a bit distracting when we just want to focus on a few. Let's fix that. The following code simplifies the dataframe to only contain three columns: `title`, `release_date`, and `budget`.\n",
        "\n",
        "**Your task:** Can you change it to keep the `title` and `popularity` columns instead?"
      ]
    },
    {
      "cell_type": "code",
      "execution_count": 20,
      "metadata": {
        "id": "ZHMlK-wg137t"
      },
      "outputs": [
        {
          "data": {
            "text/html": [
              "<div>\n",
              "<style scoped>\n",
              "    .dataframe tbody tr th:only-of-type {\n",
              "        vertical-align: middle;\n",
              "    }\n",
              "\n",
              "    .dataframe tbody tr th {\n",
              "        vertical-align: top;\n",
              "    }\n",
              "\n",
              "    .dataframe thead th {\n",
              "        text-align: right;\n",
              "    }\n",
              "</style>\n",
              "<table border=\"1\" class=\"dataframe\">\n",
              "  <thead>\n",
              "    <tr style=\"text-align: right;\">\n",
              "      <th></th>\n",
              "      <th>title</th>\n",
              "      <th>release_date</th>\n",
              "      <th>budget</th>\n",
              "    </tr>\n",
              "  </thead>\n",
              "  <tbody>\n",
              "    <tr>\n",
              "      <th>0</th>\n",
              "      <td>Toy Story</td>\n",
              "      <td>1995-10-30</td>\n",
              "      <td>30000000</td>\n",
              "    </tr>\n",
              "    <tr>\n",
              "      <th>1</th>\n",
              "      <td>Jumanji</td>\n",
              "      <td>1995-12-15</td>\n",
              "      <td>65000000</td>\n",
              "    </tr>\n",
              "    <tr>\n",
              "      <th>2</th>\n",
              "      <td>Grumpier Old Men</td>\n",
              "      <td>1995-12-22</td>\n",
              "      <td>0</td>\n",
              "    </tr>\n",
              "    <tr>\n",
              "      <th>3</th>\n",
              "      <td>Waiting to Exhale</td>\n",
              "      <td>1995-12-22</td>\n",
              "      <td>16000000</td>\n",
              "    </tr>\n",
              "    <tr>\n",
              "      <th>4</th>\n",
              "      <td>Father of the Bride Part II</td>\n",
              "      <td>1995-02-10</td>\n",
              "      <td>0</td>\n",
              "    </tr>\n",
              "  </tbody>\n",
              "</table>\n",
              "</div>"
            ],
            "text/plain": [
              "                         title release_date    budget\n",
              "0                    Toy Story   1995-10-30  30000000\n",
              "1                      Jumanji   1995-12-15  65000000\n",
              "2             Grumpier Old Men   1995-12-22         0\n",
              "3            Waiting to Exhale   1995-12-22  16000000\n",
              "4  Father of the Bride Part II   1995-02-10         0"
            ]
          },
          "execution_count": 20,
          "metadata": {},
          "output_type": "execute_result"
        }
      ],
      "source": [
        "# Create a simpler dataframe with only a few columns\n",
        "# Your job: Change this to keep the `title` and `popularity` columns instead\n",
        "movies_simple = movies[[\"title\", \"release_date\", \"budget\"]]\n",
        "\n",
        "# Display the first 5 rows of the simplified dataframe\n",
        "movies_simple.head(5)"
      ]
    },
    {
      "cell_type": "markdown",
      "metadata": {
        "id": "Cd1b6XhtcgjD"
      },
      "source": [
        "Hopefully you see just two columns: \"title\" and \"popularity\"."
      ]
    },
    {
      "cell_type": "markdown",
      "metadata": {
        "id": "LsuOANNjzrmv"
      },
      "source": [
        "# Step 3: Sort movies by popularity\n",
        "By default, `movies.csv` is sorted from oldest to newest. But we're looking for a nice Valentine's day option, and the oldest movies aren't necessarily the best. Can you sort the movies so that the most popular are at the top?\n",
        "\n",
        "The following code sorts the movies alphabetically based on their title. Can you change it to sort by popularity? We want the most popular movies at the top."
      ]
    },
    {
      "cell_type": "code",
      "execution_count": 21,
      "metadata": {
        "id": "zW5-1dRPyur0"
      },
      "outputs": [
        {
          "data": {
            "text/html": [
              "<div>\n",
              "<style scoped>\n",
              "    .dataframe tbody tr th:only-of-type {\n",
              "        vertical-align: middle;\n",
              "    }\n",
              "\n",
              "    .dataframe tbody tr th {\n",
              "        vertical-align: top;\n",
              "    }\n",
              "\n",
              "    .dataframe thead th {\n",
              "        text-align: right;\n",
              "    }\n",
              "</style>\n",
              "<table border=\"1\" class=\"dataframe\">\n",
              "  <thead>\n",
              "    <tr style=\"text-align: right;\">\n",
              "      <th></th>\n",
              "      <th>title</th>\n",
              "      <th>release_date</th>\n",
              "      <th>budget</th>\n",
              "    </tr>\n",
              "  </thead>\n",
              "  <tbody>\n",
              "    <tr>\n",
              "      <th>18757</th>\n",
              "      <td>!Women Art Revolution</td>\n",
              "      <td>2010-01-01</td>\n",
              "      <td>0</td>\n",
              "    </tr>\n",
              "    <tr>\n",
              "      <th>30957</th>\n",
              "      <td>#1 Cheerleader Camp</td>\n",
              "      <td>2010-07-27</td>\n",
              "      <td>0</td>\n",
              "    </tr>\n",
              "    <tr>\n",
              "      <th>36147</th>\n",
              "      <td>#Horror</td>\n",
              "      <td>2015-11-20</td>\n",
              "      <td>1500000</td>\n",
              "    </tr>\n",
              "    <tr>\n",
              "      <th>39988</th>\n",
              "      <td>#Pellichoopulu</td>\n",
              "      <td>2016-07-29</td>\n",
              "      <td>200000</td>\n",
              "    </tr>\n",
              "    <tr>\n",
              "      <th>42266</th>\n",
              "      <td>#SELFIEPARTY</td>\n",
              "      <td>2016-03-31</td>\n",
              "      <td>0</td>\n",
              "    </tr>\n",
              "    <tr>\n",
              "      <th>23499</th>\n",
              "      <td>#chicagoGirl</td>\n",
              "      <td>2013-11-21</td>\n",
              "      <td>0</td>\n",
              "    </tr>\n",
              "    <tr>\n",
              "      <th>16773</th>\n",
              "      <td>$ Dollars</td>\n",
              "      <td>1971-12-17</td>\n",
              "      <td>0</td>\n",
              "    </tr>\n",
              "    <tr>\n",
              "      <th>15775</th>\n",
              "      <td>$5 a Day</td>\n",
              "      <td>2008-01-01</td>\n",
              "      <td>0</td>\n",
              "    </tr>\n",
              "    <tr>\n",
              "      <th>36180</th>\n",
              "      <td>$50K and a Call Girl: A Love Story</td>\n",
              "      <td>2014-01-10</td>\n",
              "      <td>0</td>\n",
              "    </tr>\n",
              "    <tr>\n",
              "      <th>14832</th>\n",
              "      <td>$9.99</td>\n",
              "      <td>2008-09-04</td>\n",
              "      <td>0</td>\n",
              "    </tr>\n",
              "  </tbody>\n",
              "</table>\n",
              "</div>"
            ],
            "text/plain": [
              "                                    title release_date   budget\n",
              "18757               !Women Art Revolution   2010-01-01        0\n",
              "30957                 #1 Cheerleader Camp   2010-07-27        0\n",
              "36147                             #Horror   2015-11-20  1500000\n",
              "39988                      #Pellichoopulu   2016-07-29   200000\n",
              "42266                        #SELFIEPARTY   2016-03-31        0\n",
              "23499                        #chicagoGirl   2013-11-21        0\n",
              "16773                           $ Dollars   1971-12-17        0\n",
              "15775                            $5 a Day   2008-01-01        0\n",
              "36180  $50K and a Call Girl: A Love Story   2014-01-10        0\n",
              "14832                               $9.99   2008-09-04        0"
            ]
          },
          "execution_count": 21,
          "metadata": {},
          "output_type": "execute_result"
        }
      ],
      "source": [
        "# Sort movies_simple\n",
        "movies_simple_sorted = movies_simple.sort_values(\"title\", ascending=True)\n",
        "\n",
        "# Display the first 10 rows\n",
        "movies_simple_sorted.head(10)"
      ]
    },
    {
      "cell_type": "markdown",
      "metadata": {
        "id": "264e0hWxzeme"
      },
      "source": [
        "This... This is not good. We were looking for a good Valentine's day movie, and what we got was *Minions*.\n",
        "\n",
        "![\"You are 1 in a minion\" meme](https://i.imgur.com/bQ5VwDs.png)"
      ]
    },
    {
      "cell_type": "markdown",
      "metadata": {
        "id": "swQjg9_5fbHW"
      },
      "source": [
        "# Step 4: Sort movies by votes (optional)\n",
        "\n",
        "(This step is optional. So if you are in the mood to relax a bit, you are free to skip on to the next step. But if you want to learn about a cool equation that solves a tricky problem, then continue here.)\n",
        "\n",
        "It's not entirely clear what this \"popularity\" metric even means, but it doesn't seem to be giving us the best results. When we simplified our database, we got rid of two rows called `vote_count` and `vote_average`. Those columns keep track of the ratings (out of 10 stars) that reviewers gave each movie. So perhaps instead of relying on popularity, we could sort movies based on the votes they received.\n",
        "\n",
        "The following code creates a dataframe that includes the vote columns. **Can you add a final line that will sort it based on `vote_average`?** We want the highest vote averages at the top. (Refer to your previous code for a reminder on how to sort.)"
      ]
    },
    {
      "cell_type": "code",
      "execution_count": 22,
      "metadata": {
        "id": "n15-zGzJ6DPo"
      },
      "outputs": [
        {
          "data": {
            "text/html": [
              "<div>\n",
              "<style scoped>\n",
              "    .dataframe tbody tr th:only-of-type {\n",
              "        vertical-align: middle;\n",
              "    }\n",
              "\n",
              "    .dataframe tbody tr th {\n",
              "        vertical-align: top;\n",
              "    }\n",
              "\n",
              "    .dataframe thead th {\n",
              "        text-align: right;\n",
              "    }\n",
              "</style>\n",
              "<table border=\"1\" class=\"dataframe\">\n",
              "  <thead>\n",
              "    <tr style=\"text-align: right;\">\n",
              "      <th></th>\n",
              "      <th>title</th>\n",
              "      <th>vote_count</th>\n",
              "      <th>vote_average</th>\n",
              "    </tr>\n",
              "  </thead>\n",
              "  <tbody>\n",
              "    <tr>\n",
              "      <th>0</th>\n",
              "      <td>Toy Story</td>\n",
              "      <td>5415</td>\n",
              "      <td>7.7</td>\n",
              "    </tr>\n",
              "    <tr>\n",
              "      <th>1</th>\n",
              "      <td>Jumanji</td>\n",
              "      <td>2413</td>\n",
              "      <td>6.9</td>\n",
              "    </tr>\n",
              "    <tr>\n",
              "      <th>2</th>\n",
              "      <td>Grumpier Old Men</td>\n",
              "      <td>92</td>\n",
              "      <td>6.5</td>\n",
              "    </tr>\n",
              "    <tr>\n",
              "      <th>3</th>\n",
              "      <td>Waiting to Exhale</td>\n",
              "      <td>34</td>\n",
              "      <td>6.1</td>\n",
              "    </tr>\n",
              "    <tr>\n",
              "      <th>4</th>\n",
              "      <td>Father of the Bride Part II</td>\n",
              "      <td>173</td>\n",
              "      <td>5.7</td>\n",
              "    </tr>\n",
              "    <tr>\n",
              "      <th>5</th>\n",
              "      <td>Heat</td>\n",
              "      <td>1886</td>\n",
              "      <td>7.7</td>\n",
              "    </tr>\n",
              "    <tr>\n",
              "      <th>6</th>\n",
              "      <td>Sabrina</td>\n",
              "      <td>141</td>\n",
              "      <td>6.2</td>\n",
              "    </tr>\n",
              "    <tr>\n",
              "      <th>7</th>\n",
              "      <td>Tom and Huck</td>\n",
              "      <td>45</td>\n",
              "      <td>5.4</td>\n",
              "    </tr>\n",
              "    <tr>\n",
              "      <th>8</th>\n",
              "      <td>Sudden Death</td>\n",
              "      <td>174</td>\n",
              "      <td>5.5</td>\n",
              "    </tr>\n",
              "    <tr>\n",
              "      <th>9</th>\n",
              "      <td>GoldenEye</td>\n",
              "      <td>1194</td>\n",
              "      <td>6.6</td>\n",
              "    </tr>\n",
              "  </tbody>\n",
              "</table>\n",
              "</div>"
            ],
            "text/plain": [
              "                         title  vote_count  vote_average\n",
              "0                    Toy Story        5415           7.7\n",
              "1                      Jumanji        2413           6.9\n",
              "2             Grumpier Old Men          92           6.5\n",
              "3            Waiting to Exhale          34           6.1\n",
              "4  Father of the Bride Part II         173           5.7\n",
              "5                         Heat        1886           7.7\n",
              "6                      Sabrina         141           6.2\n",
              "7                 Tom and Huck          45           5.4\n",
              "8                 Sudden Death         174           5.5\n",
              "9                    GoldenEye        1194           6.6"
            ]
          },
          "execution_count": 22,
          "metadata": {},
          "output_type": "execute_result"
        }
      ],
      "source": [
        "# Create a dataframe with the vote columns:\n",
        "movies_with_votes = movies[[\"title\", \"vote_count\", \"vote_average\"]]\n",
        "\n",
        "# Sort the `movies_with_votes` dataframe by \"vote_average\":\n",
        "# ???\n",
        "\n",
        "# Display the first 10 results:\n",
        "movies_with_votes.head(10)"
      ]
    },
    {
      "cell_type": "markdown",
      "metadata": {
        "id": "o18Gh7qk637f"
      },
      "source": [
        "Hmmm... There's something interesting about these results. They all have a `vote_count` of 1.\n",
        "\n",
        "This makes sense. We're just sorting movies by their average rating. If only one person has rated your movie, it's much easier to achieve a 10/10 than if 500 people all rate your movie. With fewer total votes, it's easier to achieve a more extreme result (good or bad) than it is with many votes.\n",
        "\n",
        "So just looking for the highest average score won't do. We also need to reward the movies with more total votes.\n",
        "\n",
        "This is tricky to do correctly, but IMDB allegedly uses the following formula to compute a score for each movie:\n",
        "\n",
        "$$\n",
        "\\text{Weighted Rating} = \\left(\\frac{v}{v+m} \\cdot R\\right) + \\left(\\frac{m}{v+m} \\cdot C\\right)\n",
        "$$\n",
        "\n",
        "Where...\n",
        "* $v$ is the `vote_count` for the movie\n",
        "* $m$ is the minimum `vote_count` required to be included on the chart\n",
        "* $R$ is the `vote_average` for the movie\n",
        "* $C$ is the vote average across all movies\n",
        "\n",
        "Notice that the definition of $m$ means that we need to choose a cutoff point for our list. (i.e. We can't include all the movies.) For our list, let's look at which movies have the most votes cast (the highest `vote_count`) and choose the top 30% (i.e. the 70th percentile). We'll calculate that value $m$ in the code below:"
      ]
    },
    {
      "cell_type": "code",
      "execution_count": 23,
      "metadata": {
        "id": "jGy9-KQ_KaU8"
      },
      "outputs": [
        {
          "name": "stdout",
          "output_type": "stream",
          "text": [
            "25.0\n"
          ]
        }
      ],
      "source": [
        "# Get the entire vote_counts column as a list\n",
        "vote_counts = movies_with_votes[\"vote_count\"]\n",
        "\n",
        "# Compute the 70th percentile vote count\n",
        "m = vote_counts.quantile(0.70)\n",
        "\n",
        "print(m)"
      ]
    },
    {
      "cell_type": "markdown",
      "metadata": {
        "id": "zmFbjnK7hFbL"
      },
      "source": [
        "Now that we have our cutoff point $m$, the minimum `vote_count` required to be considered for our top movies list, let's filter to only look at movies with a `vote_count` of at least $m$:"
      ]
    },
    {
      "cell_type": "code",
      "execution_count": 24,
      "metadata": {
        "id": "qiVKmV55NSk-"
      },
      "outputs": [
        {
          "name": "stdout",
          "output_type": "stream",
          "text": [
            "Total number of movies: 45460\n",
            "Number of movies above the 70th percentile: 13810\n"
          ]
        }
      ],
      "source": [
        "top_movies = movies_with_votes[movies_with_votes[\"vote_count\"] >= m]\n",
        "\n",
        "print(\"Total number of movies:\", len(movies_with_votes))\n",
        "print(\"Number of movies above the 70th percentile:\", len(top_movies))"
      ]
    },
    {
      "cell_type": "markdown",
      "metadata": {
        "id": "CCkCwwjzhSym"
      },
      "source": [
        "The number of movies above the 70th percentile should be about 30% the total number of movies, and it is! Now let's compute $C$, the average vote across all our `top_movies`:"
      ]
    },
    {
      "cell_type": "code",
      "execution_count": 25,
      "metadata": {
        "id": "HBUMde-PMrtB"
      },
      "outputs": [
        {
          "name": "stdout",
          "output_type": "stream",
          "text": [
            "6.2833743664011585\n"
          ]
        }
      ],
      "source": [
        "vote_averages = top_movies['vote_average']\n",
        "C = vote_averages.mean()\n",
        "print(C)"
      ]
    },
    {
      "cell_type": "markdown",
      "metadata": {
        "id": "-sVWobjThvDK"
      },
      "source": [
        "One issue with the above calculation is that we aren't taking into account the number of votes each movie has received. You may try to fix it if you are so inclined. Otherwise, we'll take this value of $C$ as a good-enough approximation.\n",
        "\n",
        "Now we have $m$ and $C$, the two variables that depend on *all* the movies. The other two variables, $v$ and $R$, are the `vote_count` and `vote_average` for a particular movie respectively.\n",
        "\n",
        "To remind you, the equation we're using to score each movie is this:\n",
        "\n",
        "$$\n",
        "\\text{Weighted Rating} = \\left(\\frac{v}{v+m} \\cdot R\\right) + \\left(\\frac{m}{v+m} \\cdot C\\right)\n",
        "$$\n",
        "\n",
        "Your job is to create a `weighted_rating` function which computes the weighted rating for a given movie. Then we can use this function to add a new `weighted_rating` column to the table.\n",
        "\n",
        "The function is already started for you; your job is to complete it based on the equation above. (Remember that you have the variables `m` and `C` available to you because we calculated them earlier.)"
      ]
    },
    {
      "cell_type": "code",
      "execution_count": 26,
      "metadata": {
        "id": "RtjuCWM9aLGX"
      },
      "outputs": [
        {
          "name": "stderr",
          "output_type": "stream",
          "text": [
            "/tmp/ipykernel_99237/4065401388.py:8: SettingWithCopyWarning: \n",
            "A value is trying to be set on a copy of a slice from a DataFrame.\n",
            "Try using .loc[row_indexer,col_indexer] = value instead\n",
            "\n",
            "See the caveats in the documentation: https://pandas.pydata.org/pandas-docs/stable/user_guide/indexing.html#returning-a-view-versus-a-copy\n",
            "  top_movies[\"weighted_rating\"] = top_movies.apply(weighted_rating, axis=1)\n"
          ]
        },
        {
          "data": {
            "text/html": [
              "<div>\n",
              "<style scoped>\n",
              "    .dataframe tbody tr th:only-of-type {\n",
              "        vertical-align: middle;\n",
              "    }\n",
              "\n",
              "    .dataframe tbody tr th {\n",
              "        vertical-align: top;\n",
              "    }\n",
              "\n",
              "    .dataframe thead th {\n",
              "        text-align: right;\n",
              "    }\n",
              "</style>\n",
              "<table border=\"1\" class=\"dataframe\">\n",
              "  <thead>\n",
              "    <tr style=\"text-align: right;\">\n",
              "      <th></th>\n",
              "      <th>title</th>\n",
              "      <th>vote_count</th>\n",
              "      <th>vote_average</th>\n",
              "      <th>weighted_rating</th>\n",
              "    </tr>\n",
              "  </thead>\n",
              "  <tbody>\n",
              "    <tr>\n",
              "      <th>0</th>\n",
              "      <td>Toy Story</td>\n",
              "      <td>5415</td>\n",
              "      <td>7.7</td>\n",
              "      <td>None</td>\n",
              "    </tr>\n",
              "    <tr>\n",
              "      <th>1</th>\n",
              "      <td>Jumanji</td>\n",
              "      <td>2413</td>\n",
              "      <td>6.9</td>\n",
              "      <td>None</td>\n",
              "    </tr>\n",
              "    <tr>\n",
              "      <th>2</th>\n",
              "      <td>Grumpier Old Men</td>\n",
              "      <td>92</td>\n",
              "      <td>6.5</td>\n",
              "      <td>None</td>\n",
              "    </tr>\n",
              "    <tr>\n",
              "      <th>3</th>\n",
              "      <td>Waiting to Exhale</td>\n",
              "      <td>34</td>\n",
              "      <td>6.1</td>\n",
              "      <td>None</td>\n",
              "    </tr>\n",
              "    <tr>\n",
              "      <th>4</th>\n",
              "      <td>Father of the Bride Part II</td>\n",
              "      <td>173</td>\n",
              "      <td>5.7</td>\n",
              "      <td>None</td>\n",
              "    </tr>\n",
              "  </tbody>\n",
              "</table>\n",
              "</div>"
            ],
            "text/plain": [
              "                         title  vote_count  vote_average weighted_rating\n",
              "0                    Toy Story        5415           7.7            None\n",
              "1                      Jumanji        2413           6.9            None\n",
              "2             Grumpier Old Men          92           6.5            None\n",
              "3            Waiting to Exhale          34           6.1            None\n",
              "4  Father of the Bride Part II         173           5.7            None"
            ]
          },
          "execution_count": 26,
          "metadata": {},
          "output_type": "execute_result"
        }
      ],
      "source": [
        "def weighted_rating(movie):\n",
        "    v = movie[\"vote_count\"]\n",
        "    R = movie[\"vote_average\"]\n",
        "\n",
        "    # Calculated weighted rating based on v, m, R, and C\n",
        "    # return # ???\n",
        "\n",
        "top_movies[\"weighted_rating\"] = top_movies.apply(weighted_rating, axis=1)\n",
        "\n",
        "top_movies.head(5)"
      ]
    },
    {
      "cell_type": "markdown",
      "metadata": {
        "id": "ROcJvKXCjVIM"
      },
      "source": [
        "Amazing! If your function is correct, you should see a new `weighted_rating` column, with values between about 0 and 10.\n",
        "\n",
        "All that's left to do is to sort the movies based on their weighted rating. Can you do it?"
      ]
    },
    {
      "cell_type": "code",
      "execution_count": 27,
      "metadata": {
        "id": "mBXkdR_JjTZv"
      },
      "outputs": [
        {
          "ename": "SyntaxError",
          "evalue": "invalid syntax (4229843810.py, line 2)",
          "output_type": "error",
          "traceback": [
            "\u001b[0;36m  Input \u001b[0;32mIn [27]\u001b[0;36m\u001b[0m\n\u001b[0;31m    top_movies = # ???\u001b[0m\n\u001b[0m                 ^\u001b[0m\n\u001b[0;31mSyntaxError\u001b[0m\u001b[0;31m:\u001b[0m invalid syntax\n"
          ]
        }
      ],
      "source": [
        "# Sort top_movies based on the new weighted_rating column:\n",
        "top_movies = # ???\n",
        "\n",
        "# Display the top 10 movies:\n",
        "top_movies.head(10)"
      ]
    },
    {
      "cell_type": "markdown",
      "metadata": {
        "id": "Utn36t__kFPx"
      },
      "source": [
        "Looking good. :)\n",
        "\n",
        "<img src=\"https://img.buzzfeed.com/buzzfeed-static/static/2015-07/10/13/campaign_images/webdr04/how-much-do-you-hate-minions-2-19159-1436549099-1_dblbig.jpg\" alt=\"Goodbye minions\" width=\"300\" />"
      ]
    },
    {
      "cell_type": "markdown",
      "metadata": {
        "id": "CFolnET8lN0L"
      },
      "source": [
        "# What's next?\n",
        "Okay! This is great. We've created a list of good movies; the peoples' choice. Is this all we need to do?\n",
        "\n",
        "Well, no.\n",
        "\n",
        "Our top 10 list includes Schindler's List. It's an excellent movie, with a [98% on rotten tomatoes](https://www.rottentomatoes.com/m/schindlers_list). But it doesn't exactly give me Valentine's vibes. It would be lovely if we could create a recommendation algorithm that recommends new movies based on what you've already watched. That way, we could pick a few movies that we know fit the mood, and then find more with similar vibes."
      ]
    },
    {
      "cell_type": "markdown",
      "metadata": {
        "id": "U6LitTxHfm3a"
      },
      "source": [
        "# Step 5: Create descriptions for each movie\n",
        "To determine which movies are similar, we are going to compare text descriptions of one movie to another. This process requires a lot of memory, and doing it for all ~50,000 movies in the dataset will be too much for the computer to handle.\n",
        "\n",
        "So let's cut the size of the dataset in half by selecting only the most popular movies.\n",
        "\n",
        "We can filter for popular movies by setting a lower bound, such as the following code, which selects movies with a popularity of more than 4.00:"
      ]
    },
    {
      "cell_type": "code",
      "execution_count": 28,
      "metadata": {
        "id": "nJTR5Oj74smV"
      },
      "outputs": [
        {
          "name": "stdout",
          "output_type": "stream",
          "text": [
            "Total number of movies: 45460\n",
            "Number of popular movies: 10801\n"
          ]
        }
      ],
      "source": [
        "# Select movies with popularity > 4\n",
        "popular_movies = movies[movies[\"popularity\"] > 4]\n",
        "\n",
        "print(\"Total number of movies:\", len(movies))\n",
        "print(\"Number of popular movies:\", len(popular_movies))"
      ]
    },
    {
      "cell_type": "markdown",
      "metadata": {
        "id": "v33hsxVr5tSp"
      },
      "source": [
        "The code above selects the 10,801 most popular movies, because that's how many movies have a popularity greater than 4.\n",
        "\n",
        "But we want to select about half the movies. We *could* do this by guessing and checking for a threshold, but there's an easier way.\n",
        "\n",
        "The following code prints out the popularity threshold that selects for only the top 30% of movies (i.e. the 30th percentile). Can you change it to get the threshold at 50%?"
      ]
    },
    {
      "cell_type": "code",
      "execution_count": 29,
      "metadata": {
        "id": "WsCn7Zeg6tEo"
      },
      "outputs": [
        {
          "name": "stdout",
          "output_type": "stream",
          "text": [
            "2.7150251\n"
          ]
        }
      ],
      "source": [
        "# Print the 70th percentile popularity (which will select the top 30% of movies)\n",
        "# Can you change it to select 50% of the movies?\n",
        "print(movies[\"popularity\"].quantile(0.7))"
      ]
    },
    {
      "cell_type": "markdown",
      "metadata": {
        "id": "vzGHd3CV69rJ"
      },
      "source": [
        "Now use the value you get to grab the top 50% of movies:"
      ]
    },
    {
      "cell_type": "code",
      "execution_count": 30,
      "metadata": {
        "id": "ZCyAmMiE7Eia"
      },
      "outputs": [
        {
          "name": "stdout",
          "output_type": "stream",
          "text": [
            "Total number of movies: 45460\n",
            "Number of popular movies (hopefully about 22730): 10801\n"
          ]
        }
      ],
      "source": [
        "# CHANGE THIS LINE. We want the top 50% of movies. Use your value from above.\n",
        "popular_movies = movies[movies[\"popularity\"] > 4]\n",
        "\n",
        "print(\"Total number of movies:\", len(movies))\n",
        "print(\"Number of popular movies (hopefully about 22730):\", len(popular_movies))"
      ]
    },
    {
      "cell_type": "markdown",
      "metadata": {
        "id": "kjSDo3pr4vn0"
      },
      "source": [
        "Amazing. We've simplified our dataset to only contain the top half of movies. (The computer will be thanking us later for making the dataset smaller. 😅)\n",
        "\n",
        "Now... We want to compare movies based on their text description. So let's create a simplified table which only stores the text information about each movie.\n",
        "\n",
        "The following code selects just the \"title\" and \"language\" columns. Can you change it to select \"title\", \"tagline\", and \"overview\" instead?"
      ]
    },
    {
      "cell_type": "code",
      "execution_count": 31,
      "metadata": {
        "id": "ABuExZlS8EAa"
      },
      "outputs": [
        {
          "data": {
            "text/html": [
              "<div>\n",
              "<style scoped>\n",
              "    .dataframe tbody tr th:only-of-type {\n",
              "        vertical-align: middle;\n",
              "    }\n",
              "\n",
              "    .dataframe tbody tr th {\n",
              "        vertical-align: top;\n",
              "    }\n",
              "\n",
              "    .dataframe thead th {\n",
              "        text-align: right;\n",
              "    }\n",
              "</style>\n",
              "<table border=\"1\" class=\"dataframe\">\n",
              "  <thead>\n",
              "    <tr style=\"text-align: right;\">\n",
              "      <th></th>\n",
              "      <th>title</th>\n",
              "      <th>language</th>\n",
              "    </tr>\n",
              "  </thead>\n",
              "  <tbody>\n",
              "    <tr>\n",
              "      <th>0</th>\n",
              "      <td>Toy Story</td>\n",
              "      <td>en</td>\n",
              "    </tr>\n",
              "    <tr>\n",
              "      <th>1</th>\n",
              "      <td>Jumanji</td>\n",
              "      <td>en</td>\n",
              "    </tr>\n",
              "    <tr>\n",
              "      <th>2</th>\n",
              "      <td>Grumpier Old Men</td>\n",
              "      <td>en</td>\n",
              "    </tr>\n",
              "    <tr>\n",
              "      <th>4</th>\n",
              "      <td>Father of the Bride Part II</td>\n",
              "      <td>en</td>\n",
              "    </tr>\n",
              "    <tr>\n",
              "      <th>5</th>\n",
              "      <td>Heat</td>\n",
              "      <td>en</td>\n",
              "    </tr>\n",
              "  </tbody>\n",
              "</table>\n",
              "</div>"
            ],
            "text/plain": [
              "                         title language\n",
              "0                    Toy Story       en\n",
              "1                      Jumanji       en\n",
              "2             Grumpier Old Men       en\n",
              "4  Father of the Bride Part II       en\n",
              "5                         Heat       en"
            ]
          },
          "execution_count": 31,
          "metadata": {},
          "output_type": "execute_result"
        }
      ],
      "source": [
        "# Get just the text columns for each movie. (Requires changes)\n",
        "movies_text = popular_movies[[\"title\", \"language\"]]\n",
        "\n",
        "movies_text.head(5)"
      ]
    },
    {
      "cell_type": "markdown",
      "metadata": {
        "id": "8iTb4hMrpm4r"
      },
      "source": [
        "Pretty good! But as you can see, the `tagline` for Toy Story is `NaN`, which stands for \"not a number\". Obviously the tagline is never a number, but in this case `NaN` means that there is no tagline. The same can also happen in the `overview` column. To fix this, let's replace `NaN` values with empty strings instead:"
      ]
    },
    {
      "cell_type": "code",
      "execution_count": 32,
      "metadata": {
        "id": "ItCtEtvZp5eA"
      },
      "outputs": [
        {
          "ename": "KeyError",
          "evalue": "'tagline'",
          "output_type": "error",
          "traceback": [
            "\u001b[0;31m---------------------------------------------------------------------------\u001b[0m",
            "\u001b[0;31mKeyError\u001b[0m                                  Traceback (most recent call last)",
            "File \u001b[0;32m~/Documents/projects/Workshops/venv/lib/python3.10/site-packages/pandas/core/indexes/base.py:3621\u001b[0m, in \u001b[0;36mIndex.get_loc\u001b[0;34m(self, key, method, tolerance)\u001b[0m\n\u001b[1;32m   <a href='file:///home/owen/Documents/projects/Workshops/venv/lib/python3.10/site-packages/pandas/core/indexes/base.py?line=3619'>3620</a>\u001b[0m \u001b[39mtry\u001b[39;00m:\n\u001b[0;32m-> <a href='file:///home/owen/Documents/projects/Workshops/venv/lib/python3.10/site-packages/pandas/core/indexes/base.py?line=3620'>3621</a>\u001b[0m     \u001b[39mreturn\u001b[39;00m \u001b[39mself\u001b[39;49m\u001b[39m.\u001b[39;49m_engine\u001b[39m.\u001b[39;49mget_loc(casted_key)\n\u001b[1;32m   <a href='file:///home/owen/Documents/projects/Workshops/venv/lib/python3.10/site-packages/pandas/core/indexes/base.py?line=3621'>3622</a>\u001b[0m \u001b[39mexcept\u001b[39;00m \u001b[39mKeyError\u001b[39;00m \u001b[39mas\u001b[39;00m err:\n",
            "File \u001b[0;32m~/Documents/projects/Workshops/venv/lib/python3.10/site-packages/pandas/_libs/index.pyx:136\u001b[0m, in \u001b[0;36mpandas._libs.index.IndexEngine.get_loc\u001b[0;34m()\u001b[0m\n",
            "File \u001b[0;32m~/Documents/projects/Workshops/venv/lib/python3.10/site-packages/pandas/_libs/index.pyx:163\u001b[0m, in \u001b[0;36mpandas._libs.index.IndexEngine.get_loc\u001b[0;34m()\u001b[0m\n",
            "File \u001b[0;32mpandas/_libs/hashtable_class_helper.pxi:5198\u001b[0m, in \u001b[0;36mpandas._libs.hashtable.PyObjectHashTable.get_item\u001b[0;34m()\u001b[0m\n",
            "File \u001b[0;32mpandas/_libs/hashtable_class_helper.pxi:5206\u001b[0m, in \u001b[0;36mpandas._libs.hashtable.PyObjectHashTable.get_item\u001b[0;34m()\u001b[0m\n",
            "\u001b[0;31mKeyError\u001b[0m: 'tagline'",
            "\nThe above exception was the direct cause of the following exception:\n",
            "\u001b[0;31mKeyError\u001b[0m                                  Traceback (most recent call last)",
            "\u001b[1;32m/home/owen/Documents/projects/Workshops/movie-recommendation-021222/Movie_Recommendation_System.ipynb Cell 35'\u001b[0m in \u001b[0;36m<cell line: 1>\u001b[0;34m()\u001b[0m\n\u001b[0;32m----> <a href='vscode-notebook-cell:/home/owen/Documents/projects/Workshops/movie-recommendation-021222/Movie_Recommendation_System.ipynb#ch0000034?line=0'>1</a>\u001b[0m movies_text[\u001b[39m\"\u001b[39;49m\u001b[39mtagline\u001b[39;49m\u001b[39m\"\u001b[39;49m]\u001b[39m.\u001b[39mfillna(\u001b[39m\"\u001b[39m\u001b[39m\"\u001b[39m, inplace\u001b[39m=\u001b[39m\u001b[39mTrue\u001b[39;00m)\n\u001b[1;32m      <a href='vscode-notebook-cell:/home/owen/Documents/projects/Workshops/movie-recommendation-021222/Movie_Recommendation_System.ipynb#ch0000034?line=1'>2</a>\u001b[0m movies_text[\u001b[39m\"\u001b[39m\u001b[39moverview\u001b[39m\u001b[39m\"\u001b[39m]\u001b[39m.\u001b[39mfillna(\u001b[39m\"\u001b[39m\u001b[39m\"\u001b[39m, inplace\u001b[39m=\u001b[39m\u001b[39mTrue\u001b[39;00m)\n\u001b[1;32m      <a href='vscode-notebook-cell:/home/owen/Documents/projects/Workshops/movie-recommendation-021222/Movie_Recommendation_System.ipynb#ch0000034?line=3'>4</a>\u001b[0m \u001b[39m# Display the first 5 rows now:\u001b[39;00m\n",
            "File \u001b[0;32m~/Documents/projects/Workshops/venv/lib/python3.10/site-packages/pandas/core/frame.py:3506\u001b[0m, in \u001b[0;36mDataFrame.__getitem__\u001b[0;34m(self, key)\u001b[0m\n\u001b[1;32m   <a href='file:///home/owen/Documents/projects/Workshops/venv/lib/python3.10/site-packages/pandas/core/frame.py?line=3503'>3504</a>\u001b[0m \u001b[39mif\u001b[39;00m \u001b[39mself\u001b[39m\u001b[39m.\u001b[39mcolumns\u001b[39m.\u001b[39mnlevels \u001b[39m>\u001b[39m \u001b[39m1\u001b[39m:\n\u001b[1;32m   <a href='file:///home/owen/Documents/projects/Workshops/venv/lib/python3.10/site-packages/pandas/core/frame.py?line=3504'>3505</a>\u001b[0m     \u001b[39mreturn\u001b[39;00m \u001b[39mself\u001b[39m\u001b[39m.\u001b[39m_getitem_multilevel(key)\n\u001b[0;32m-> <a href='file:///home/owen/Documents/projects/Workshops/venv/lib/python3.10/site-packages/pandas/core/frame.py?line=3505'>3506</a>\u001b[0m indexer \u001b[39m=\u001b[39m \u001b[39mself\u001b[39;49m\u001b[39m.\u001b[39;49mcolumns\u001b[39m.\u001b[39;49mget_loc(key)\n\u001b[1;32m   <a href='file:///home/owen/Documents/projects/Workshops/venv/lib/python3.10/site-packages/pandas/core/frame.py?line=3506'>3507</a>\u001b[0m \u001b[39mif\u001b[39;00m is_integer(indexer):\n\u001b[1;32m   <a href='file:///home/owen/Documents/projects/Workshops/venv/lib/python3.10/site-packages/pandas/core/frame.py?line=3507'>3508</a>\u001b[0m     indexer \u001b[39m=\u001b[39m [indexer]\n",
            "File \u001b[0;32m~/Documents/projects/Workshops/venv/lib/python3.10/site-packages/pandas/core/indexes/base.py:3623\u001b[0m, in \u001b[0;36mIndex.get_loc\u001b[0;34m(self, key, method, tolerance)\u001b[0m\n\u001b[1;32m   <a href='file:///home/owen/Documents/projects/Workshops/venv/lib/python3.10/site-packages/pandas/core/indexes/base.py?line=3620'>3621</a>\u001b[0m     \u001b[39mreturn\u001b[39;00m \u001b[39mself\u001b[39m\u001b[39m.\u001b[39m_engine\u001b[39m.\u001b[39mget_loc(casted_key)\n\u001b[1;32m   <a href='file:///home/owen/Documents/projects/Workshops/venv/lib/python3.10/site-packages/pandas/core/indexes/base.py?line=3621'>3622</a>\u001b[0m \u001b[39mexcept\u001b[39;00m \u001b[39mKeyError\u001b[39;00m \u001b[39mas\u001b[39;00m err:\n\u001b[0;32m-> <a href='file:///home/owen/Documents/projects/Workshops/venv/lib/python3.10/site-packages/pandas/core/indexes/base.py?line=3622'>3623</a>\u001b[0m     \u001b[39mraise\u001b[39;00m \u001b[39mKeyError\u001b[39;00m(key) \u001b[39mfrom\u001b[39;00m \u001b[39merr\u001b[39;00m\n\u001b[1;32m   <a href='file:///home/owen/Documents/projects/Workshops/venv/lib/python3.10/site-packages/pandas/core/indexes/base.py?line=3623'>3624</a>\u001b[0m \u001b[39mexcept\u001b[39;00m \u001b[39mTypeError\u001b[39;00m:\n\u001b[1;32m   <a href='file:///home/owen/Documents/projects/Workshops/venv/lib/python3.10/site-packages/pandas/core/indexes/base.py?line=3624'>3625</a>\u001b[0m     \u001b[39m# If we have a listlike key, _check_indexing_error will raise\u001b[39;00m\n\u001b[1;32m   <a href='file:///home/owen/Documents/projects/Workshops/venv/lib/python3.10/site-packages/pandas/core/indexes/base.py?line=3625'>3626</a>\u001b[0m     \u001b[39m#  InvalidIndexError. Otherwise we fall through and re-raise\u001b[39;00m\n\u001b[1;32m   <a href='file:///home/owen/Documents/projects/Workshops/venv/lib/python3.10/site-packages/pandas/core/indexes/base.py?line=3626'>3627</a>\u001b[0m     \u001b[39m#  the TypeError.\u001b[39;00m\n\u001b[1;32m   <a href='file:///home/owen/Documents/projects/Workshops/venv/lib/python3.10/site-packages/pandas/core/indexes/base.py?line=3627'>3628</a>\u001b[0m     \u001b[39mself\u001b[39m\u001b[39m.\u001b[39m_check_indexing_error(key)\n",
            "\u001b[0;31mKeyError\u001b[0m: 'tagline'"
          ]
        }
      ],
      "source": [
        "movies_text[\"tagline\"].fillna(\"\", inplace=True)\n",
        "movies_text[\"overview\"].fillna(\"\", inplace=True)\n",
        "\n",
        "# Display the first 5 rows now:\n",
        "movies_text.head(5)"
      ]
    },
    {
      "cell_type": "markdown",
      "metadata": {
        "id": "mlpViXIfiTEH"
      },
      "source": [
        "Nice! Now every cell contains a string (albeit sometimes an empty one).\n",
        "\n",
        "Now, we want a description of each movie that contains as much information as possible. We could use just the tagline or just the overview, but then we would be throwing away the other column, which seems bad.\n",
        "\n",
        "Instead, let's merge the two columns into one new column called \"description\". The description of a movie will just be the tagline plus the overview, concatenated together.\n",
        "\n",
        "The following code creates a \"description\" column which is just the title doubled. Can you change it to merge the \"tagline\" and \"overview\" columns into one instead?"
      ]
    },
    {
      "cell_type": "code",
      "execution_count": null,
      "metadata": {
        "id": "Wqp4cheMqjlm"
      },
      "outputs": [],
      "source": [
        "# Create a new column called \"description\" which\n",
        "# merges \"tagline\" and \"overview\" together. (Requires changes.)\n",
        "movies_text[\"description\"] = movies_text[\"title\"] + movies_text[\"title\"]\n",
        "\n",
        "# Display the first 3 rows:\n",
        "movies_text.head(3)"
      ]
    },
    {
      "cell_type": "markdown",
      "metadata": {
        "id": "xU_vB5ZL93sj"
      },
      "source": [
        "(If you think your code is correct but can't tell because the text is getting cut off, click the little magic wand button beneath the table.)\n",
        "\n",
        "---\n",
        "\n",
        "Amazing! Now that we've created the description column, we don't really need the original tagline and overview columns anymore. The following code deletes some columns, but accidentally deletes too many. Can you change it to *keep* the \"title\" and \"description\" columns?"
      ]
    },
    {
      "cell_type": "code",
      "execution_count": null,
      "metadata": {
        "id": "aCNJmP9FizH7"
      },
      "outputs": [],
      "source": [
        "# Oops! This code drops too many columns. Can you change it to keep the description column?\n",
        "movie_descriptions = movies_text.drop([\"tagline\", \"overview\", \"description\"], axis=1)\n",
        "\n",
        "movie_descriptions.head(5)"
      ]
    },
    {
      "cell_type": "markdown",
      "metadata": {
        "id": "7-1c8GoVjq9G"
      },
      "source": [
        "Fantastic. Now we just need a way to compare movie descriptions to each other. This will allow us to find similar movies based on a description alone."
      ]
    },
    {
      "cell_type": "markdown",
      "metadata": {
        "id": "mgu2KvZAf8up"
      },
      "source": [
        "# Step 6: Use Tfidf to compare movies to each other\n",
        "At the beginning of this workshop, we talked about TF-IDF, which stands for \"term frequency, inverse document frequency\". It's a technique for comparing two pieces of text to see if they are similar. And it uses the context clues from all the other texts to ignore common words.\n",
        "\n",
        "Fortunately, the `sklearn` package has lots of help in this department. The following code creates a `TfidfVectorizor` and uses it to compute the `tfidf_matrix`. There's no need to make any changes; just run it and see what happens."
      ]
    },
    {
      "cell_type": "code",
      "execution_count": 17,
      "metadata": {
        "id": "PsjCMEUjrXF9"
      },
      "outputs": [
        {
          "ename": "NameError",
          "evalue": "name 'movie_descriptions' is not defined",
          "output_type": "error",
          "traceback": [
            "\u001b[0;31m---------------------------------------------------------------------------\u001b[0m",
            "\u001b[0;31mNameError\u001b[0m                                 Traceback (most recent call last)",
            "\u001b[1;32m/home/owen/Documents/projects/Workshops/movie-recommendation-021222/Movie_Recommendation_System.ipynb Cell 42'\u001b[0m in \u001b[0;36m<cell line: 4>\u001b[0;34m()\u001b[0m\n\u001b[1;32m      <a href='vscode-notebook-cell:/home/owen/Documents/projects/Workshops/movie-recommendation-021222/Movie_Recommendation_System.ipynb#ch0000041?line=0'>1</a>\u001b[0m \u001b[39mfrom\u001b[39;00m \u001b[39msklearn\u001b[39;00m\u001b[39m.\u001b[39;00m\u001b[39mfeature_extraction\u001b[39;00m\u001b[39m.\u001b[39;00m\u001b[39mtext\u001b[39;00m \u001b[39mimport\u001b[39;00m TfidfVectorizer\n\u001b[1;32m      <a href='vscode-notebook-cell:/home/owen/Documents/projects/Workshops/movie-recommendation-021222/Movie_Recommendation_System.ipynb#ch0000041?line=2'>3</a>\u001b[0m \u001b[39m# Get a list of all the video descriptions:\u001b[39;00m\n\u001b[0;32m----> <a href='vscode-notebook-cell:/home/owen/Documents/projects/Workshops/movie-recommendation-021222/Movie_Recommendation_System.ipynb#ch0000041?line=3'>4</a>\u001b[0m all_descriptions \u001b[39m=\u001b[39m movie_descriptions[\u001b[39m\"\u001b[39m\u001b[39mdescription\u001b[39m\u001b[39m\"\u001b[39m]\n\u001b[1;32m      <a href='vscode-notebook-cell:/home/owen/Documents/projects/Workshops/movie-recommendation-021222/Movie_Recommendation_System.ipynb#ch0000041?line=5'>6</a>\u001b[0m \u001b[39m# Create tfidf vectorizer:\u001b[39;00m\n\u001b[1;32m      <a href='vscode-notebook-cell:/home/owen/Documents/projects/Workshops/movie-recommendation-021222/Movie_Recommendation_System.ipynb#ch0000041?line=6'>7</a>\u001b[0m tf \u001b[39m=\u001b[39m TfidfVectorizer(analyzer\u001b[39m=\u001b[39m\u001b[39m'\u001b[39m\u001b[39mword\u001b[39m\u001b[39m'\u001b[39m, ngram_range\u001b[39m=\u001b[39m(\u001b[39m1\u001b[39m, \u001b[39m2\u001b[39m), min_df\u001b[39m=\u001b[39m\u001b[39m0\u001b[39m, stop_words\u001b[39m=\u001b[39m\u001b[39m'\u001b[39m\u001b[39menglish\u001b[39m\u001b[39m'\u001b[39m)\n",
            "\u001b[0;31mNameError\u001b[0m: name 'movie_descriptions' is not defined"
          ]
        }
      ],
      "source": [
        "from sklearn.feature_extraction.text import TfidfVectorizer\n",
        "\n",
        "# Get a list of all the video descriptions:\n",
        "all_descriptions = movie_descriptions[\"description\"]\n",
        "\n",
        "# Create tfidf vectorizer:\n",
        "tf = TfidfVectorizer(analyzer='word', ngram_range=(1, 2), min_df=0, stop_words='english')\n",
        "\n",
        "# Use vectorizer to create tfidf matrix.\n",
        "# This will take a moment to complete.\n",
        "tfidf_matrix = tf.fit_transform(all_descriptions)\n",
        "\n",
        "# Print out the shape of the tfidf_matrix (it is large):\n",
        "print(tfidf_matrix.shape)"
      ]
    },
    {
      "cell_type": "markdown",
      "metadata": {
        "id": "dMcJL5ryOarh"
      },
      "source": [
        "If all went well, you should see the shape of the tfidf matrix printed above. Mine has 22730 rows and 594892 columns. Hopefully yours is similar.\n",
        "\n",
        "**Question:** What do you think the rows and columns represent? The number of rows should look familiar. What does that tell you about the meaning of each row?\n",
        "\n",
        "The number of columns is much larger than anything we've seen so far. What do you think each column might represent?\n",
        "\n",
        "---\n",
        "\n",
        "Now that we have the tfidf matrix, we can use it to compute the similarity matrix. If the tfidf matrix is $M$, then the similarity matrix is computed by performing $M \\cdot M^T$. If you've taken linear algebra, you might be able to figure out why this makes sense. If not, don't worry too much about it.\n",
        "\n",
        "Let's compute this new similarity matrix. Again, no code changes are necessary:"
      ]
    },
    {
      "cell_type": "code",
      "execution_count": null,
      "metadata": {
        "id": "UKuT4SSFsyP2"
      },
      "outputs": [],
      "source": [
        "from sklearn.metrics.pairwise import linear_kernel\n",
        "\n",
        "# Compute the similarity matrix. (This will take some time.)\n",
        "similarity_matrix = linear_kernel(tfidf_matrix, tfidf_matrix)\n",
        "\n",
        "print(similarity_matrix.shape)"
      ]
    },
    {
      "cell_type": "markdown",
      "metadata": {
        "id": "WJx4bXBdPT71"
      },
      "source": [
        "If all went well, you should see the shape of the similarity matrix printed above. What are the dimensions? Mine has 22730 rows and 22730 columns. Hopefully yours is similar.\n",
        "\n",
        "**Question:** What does each entry of the similarity matrix tell you? The number of rows/columns is a clue. (We also talked about this during the presentation.)\n",
        "\n",
        "---\n",
        "\n",
        "Now that we have `similarity_matrix`, we can use it to check the similarity between any two movies. Each movie has a row number in our dataset, so to check the similarity between the first two movies (in rows 0 and 1 respectively), we get the corresponding entry from the similarity matrix: `similarity_matrix[0, 1]`.\n",
        "\n",
        "Let's write some code that can take any two movies, display their title and description, and then print their similarity. The code has been started for you, and your job is to finish it:"
      ]
    },
    {
      "cell_type": "code",
      "execution_count": null,
      "metadata": {
        "id": "9Fe04UcCkWjd"
      },
      "outputs": [],
      "source": [
        "movie_A = 0\n",
        "movie_B = 1\n",
        "\n",
        "# Print the title and description for movie A:\n",
        "print(\"Movie A:\", movie_descriptions.loc[movie_A, \"title\"])\n",
        "print(movie_descriptions.loc[movie_A, \"description\"])\n",
        "print()\n",
        "\n",
        "# Print the title and description for movie B:\n",
        "# ???\n",
        "\n",
        "# Get the similarity of the two movies:\n",
        "# (Which entry of similarity_matrix should you grab? You\n",
        "# should be using the `movie_A` and `movie_B` variables.)\n",
        "similarity = # ???\n",
        "print(\"Similarity:\", similarity)"
      ]
    },
    {
      "cell_type": "markdown",
      "metadata": {
        "id": "099nDc7DQ6sR"
      },
      "source": [
        "If your code is correct and you check the similarity between movie 0 and movie 1, you should see that they are Toy Story and Jumanji respectively, and their similarity score is 0.0056 (not very similar)."
      ]
    },
    {
      "cell_type": "markdown",
      "metadata": {
        "id": "Ytl1eYL4gIPD"
      },
      "source": [
        "# Step 7: Recommend similar movies\n",
        "Now that we can check the similarity between any two movies, we can take any existing movie and find all the other movies that are *most* similar!\n",
        "\n",
        "Looking up movies by their row number is pretty annoying, so let's start by making it possible to look up a movie by its title.\n",
        "\n",
        "The following code creates a mapping between titles and row numbers. Run it and see what you get:"
      ]
    },
    {
      "cell_type": "code",
      "execution_count": null,
      "metadata": {
        "id": "_vuuXpAJmjgM"
      },
      "outputs": [],
      "source": [
        "# Reset the numbering of the rows to make sure no numbers are skipped because we removed rows\n",
        "movie_descriptions.reset_index(inplace=True)\n",
        "\n",
        "# Create a dictionary (or, really, a pandas \"Series\") mapping\n",
        "# movie titles to the index of that movie in movie_descriptions\n",
        "indices = pd.Series(movie_descriptions.index, index=movie_descriptions['title'])\n",
        "\n",
        "print(indices)"
      ]
    },
    {
      "cell_type": "markdown",
      "metadata": {
        "id": "CUBZB9CdRcz4"
      },
      "source": [
        "Great! Now we can use the following code to check the row number for a particular title."
      ]
    },
    {
      "cell_type": "code",
      "execution_count": null,
      "metadata": {
        "id": "EvQhXUsvRiz5"
      },
      "outputs": [],
      "source": [
        "print(indices[\"Grumpier Old Men\"])"
      ]
    },
    {
      "cell_type": "markdown",
      "metadata": {
        "id": "F5DvfAehRnAA"
      },
      "source": [
        "**Question:** What is the row number of the movie `\"Minions\"`? (Asking for a friend.)\n",
        "\n",
        "Now, if we know the row number for a movie, we can get that same row out of the similarity_matrix. That row will contain the similarities of the movie with every other movie:"
      ]
    },
    {
      "cell_type": "code",
      "execution_count": null,
      "metadata": {
        "id": "FKSX7C1kTpYD"
      },
      "outputs": [],
      "source": [
        "# Get the movie's index based on its title:\n",
        "index = indices[\"Toy Story\"]\n",
        "\n",
        "# Use that index to get the similarities matrix row\n",
        "# that gives a similarity score for this movie\n",
        "# compared to each other movie:\n",
        "row = similarity_matrix[index]\n",
        "\n",
        "# Print the similarity scores with the first 20 movies:\n",
        "print(row[:20])\n",
        "\n",
        "# (...Of course this row goes on for a very long time\n",
        "# if we don't look at just the first few entries.)"
      ]
    },
    {
      "cell_type": "markdown",
      "metadata": {
        "id": "S3sbA0tzUDOv"
      },
      "source": [
        "As you can see, Toy Story has a similarity of 0 to most of the movies, but it is much more similar to a few of them.\n",
        "\n",
        "We would like to sort this array in order to get the most similar movies first. But if we just do that, we actually lose track of which similarity score corresponds to which movie. (Because the order of this array currently matters.)\n",
        "\n",
        "To solve this, let's use the `enumerate` function to turn every entry into a pair of values: The row of the movie, and the similarity score."
      ]
    },
    {
      "cell_type": "code",
      "execution_count": null,
      "metadata": {
        "id": "YBvt6Za5UdKK"
      },
      "outputs": [],
      "source": [
        "# Convert that row to a list of (movie_row, similarity_score) pairs:\n",
        "sim_scores = list(enumerate(row))\n",
        "\n",
        "print(sim_scores)"
      ]
    },
    {
      "cell_type": "markdown",
      "metadata": {
        "id": "cBfrYNc5Uhc3"
      },
      "source": [
        "Now we can sort these pairs by their second value (the similarity score). Right now the following code sorts from lowest similarity to highest. Can you reverse the sort?"
      ]
    },
    {
      "cell_type": "code",
      "execution_count": null,
      "metadata": {
        "id": "pTzYiJPZUqjc"
      },
      "outputs": [],
      "source": [
        "# Sort the (movie_row, similarity_score) pairs by similarity score:\n",
        "sim_scores = sorted(sim_scores, key=lambda x: x[1], reverse=False)\n",
        "\n",
        "print(sim_scores)"
      ]
    },
    {
      "cell_type": "markdown",
      "metadata": {
        "id": "-hHw4RqEUyDZ"
      },
      "source": [
        "Once you have the high similarity scores first, we can grab just the top 10 highest scorers:"
      ]
    },
    {
      "cell_type": "code",
      "execution_count": null,
      "metadata": {
        "id": "Hr5jpDYrU2H0"
      },
      "outputs": [],
      "source": [
        "# Get the top 10 (movie_row, similarity_score) pairs:\n",
        "closest_matches = sim_scores[:10]\n",
        "\n",
        "print(closest_matches)"
      ]
    },
    {
      "cell_type": "markdown",
      "metadata": {
        "id": "85HWVM6nVC-v"
      },
      "source": [
        "Now that we have our top 10, we don't need the similarity scores any more. We just care about the first number in each pair, which is the row number of the movie.\n",
        "\n",
        "The following code is *supposed* to grab just the first entry from each pair. But instead, it grabs the second entry (the similarity score). Can you fix it?"
      ]
    },
    {
      "cell_type": "code",
      "execution_count": null,
      "metadata": {
        "id": "EvRgtmxOVM3U"
      },
      "outputs": [],
      "source": [
        "# Supposed to get just the movie_row out of each (movie_row, similarity_score) pair.\n",
        "# But currently gets the similarity_score instead. (Can you fix it?)\n",
        "movie_indices = [i[1] for i in closest_matches]\n",
        "\n",
        "print(movie_indices)"
      ]
    },
    {
      "cell_type": "markdown",
      "metadata": {
        "id": "OsvegpbbVV3g"
      },
      "source": [
        "You should see a list like `[0, 2408, 11336, ...]`.\n",
        "\n",
        "Finally, we can use these row numbers to filter our original movie descriptions table and get a nice top 10 list:"
      ]
    },
    {
      "cell_type": "code",
      "execution_count": null,
      "metadata": {
        "id": "yPbASkhmVujk"
      },
      "outputs": [],
      "source": [
        "# Filter the movie_descriptions table to only include the top 10 rows:\n",
        "movie_descriptions.iloc[movie_indices]"
      ]
    },
    {
      "cell_type": "markdown",
      "metadata": {
        "id": "ZE7eRm5xVxM1"
      },
      "source": [
        "Amazing! This top 10 list isn't perfect, but it's not terrible either. We got the first three toy story movies, in order, as being most similar to \"Toy Story\". Pretty good!\n",
        "\n",
        "For convenience, I've taken all the steps from above and merged them into one code block so that you can try running the code with a different movie. Do the results seem any good? (What happens if you try to find movies similar to `\"Minions\"`?)"
      ]
    },
    {
      "cell_type": "code",
      "execution_count": null,
      "metadata": {
        "id": "T9atb7XfmEIJ"
      },
      "outputs": [],
      "source": [
        "# Get the movie's index based on its title:\n",
        "index = indices[\"Toy Story\"]\n",
        "\n",
        "# Use that index to get the similarities matrix row\n",
        "# that gives a similarity score for this movie\n",
        "# compared to each other movie:\n",
        "row = similarity_matrix[index]\n",
        "\n",
        "# Convert that row to a list of (movie_index, similarity_score) pairs:\n",
        "sim_scores = list(enumerate(row))\n",
        "\n",
        "# Sort the (movie_index, similarity_score) pairs by similarity score:\n",
        "sim_scores = sorted(sim_scores, key=lambda x: x[1], reverse=True)\n",
        "\n",
        "# Get the top 10 (movie_index, similarity_score) pairs:\n",
        "sim_scores = sim_scores[:10]\n",
        "\n",
        "# Get just the movie_index out of each pair:\n",
        "movie_indices = [i[0] for i in sim_scores]\n",
        "\n",
        "# Filter the movie_descriptions table to only include the top 10 rows:\n",
        "movie_descriptions.iloc[movie_indices]"
      ]
    },
    {
      "cell_type": "markdown",
      "metadata": {
        "id": "jQwdpRkcgPZW"
      },
      "source": [
        "Hopefully with this knowledge, you are well-equiped to choose a movie.\n",
        "\n",
        "Or, y'know, you could just follow your heart."
      ]
    }
  ],
  "metadata": {
    "colab": {
      "collapsed_sections": [],
      "name": "Movie Recommendation System",
      "private_outputs": true,
      "provenance": [],
      "toc_visible": true
    },
    "kernelspec": {
      "display_name": "Python 3",
      "name": "python3"
    },
    "language_info": {
      "codemirror_mode": {
        "name": "ipython",
        "version": 3
      },
      "file_extension": ".py",
      "mimetype": "text/x-python",
      "name": "python",
      "nbconvert_exporter": "python",
      "pygments_lexer": "ipython3",
      "version": "3.10.4"
    }
  },
  "nbformat": 4,
  "nbformat_minor": 0
}
